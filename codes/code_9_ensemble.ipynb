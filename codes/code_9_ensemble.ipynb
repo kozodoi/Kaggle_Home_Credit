{
 "cells": [
  {
   "cell_type": "code",
   "execution_count": 1,
   "metadata": {},
   "outputs": [],
   "source": [
    "# libraries\n",
    "import pandas as pd\n",
    "from scipy.stats import rankdata"
   ]
  },
  {
   "cell_type": "code",
   "execution_count": 2,
   "metadata": {},
   "outputs": [],
   "source": [
    "# import data\n",
    "a = pd.read_csv(\"../submissions/hybridII.csv\")\n",
    "b = pd.read_csv(\"../submissions/791880_bagged10_lgb_10k_f2486.csv\")\n",
    "c = pd.read_csv(\"../submissions/submission.csv\")"
   ]
  },
  {
   "cell_type": "code",
   "execution_count": 3,
   "metadata": {},
   "outputs": [],
   "source": [
    "a[\"TARGET\"] = (a.TARGET + b.TARGET + c.TARGET)*(1/3)"
   ]
  },
  {
   "cell_type": "code",
   "execution_count": 8,
   "metadata": {},
   "outputs": [],
   "source": [
    "a[\"TARGET\"] = (a.TARGET * b.TARGET * c.TARGET)**(1/3)"
   ]
  },
  {
   "cell_type": "code",
   "execution_count": 16,
   "metadata": {},
   "outputs": [],
   "source": [
    "a[\"TARGET\"] = (rankdata(a.TARGET) + \n",
    "               rankdata(b.TARGET) + \n",
    "               rankdata(c.TARGET))/3\n",
    "\n",
    "a[\"TARGET\"] = (a.TARGET - a.TARGET.min()) / (a.TARGET.max() - a.TARGET.min())"
   ]
  },
  {
   "cell_type": "code",
   "execution_count": 4,
   "metadata": {},
   "outputs": [
    {
     "data": {
      "text/plain": [
       "count    48744.000000\n",
       "mean         0.090132\n",
       "std          0.089915\n",
       "min          0.003095\n",
       "25%          0.030146\n",
       "50%          0.058528\n",
       "75%          0.116341\n",
       "max          0.725707\n",
       "Name: TARGET, dtype: float64"
      ]
     },
     "execution_count": 4,
     "metadata": {},
     "output_type": "execute_result"
    }
   ],
   "source": [
    "a.TARGET.describe()"
   ]
  },
  {
   "cell_type": "code",
   "execution_count": 6,
   "metadata": {},
   "outputs": [],
   "source": [
    "# export CSV\n",
    "a.to_csv(\"../submissions/mean_hybrid2_lgb_lgbkernel.csv\", index = False, float_format = \"%.8f\")"
   ]
  },
  {
   "cell_type": "code",
   "execution_count": null,
   "metadata": {},
   "outputs": [],
   "source": []
  }
 ],
 "metadata": {
  "kernelspec": {
   "display_name": "Python 3",
   "language": "python",
   "name": "python3"
  },
  "language_info": {
   "codemirror_mode": {
    "name": "ipython",
    "version": 3
   },
   "file_extension": ".py",
   "mimetype": "text/x-python",
   "name": "python",
   "nbconvert_exporter": "python",
   "pygments_lexer": "ipython3",
   "version": "3.6.5"
  }
 },
 "nbformat": 4,
 "nbformat_minor": 2
}
