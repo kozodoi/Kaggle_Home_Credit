{
 "cells": [
  {
   "cell_type": "code",
   "execution_count": 14,
   "metadata": {},
   "outputs": [],
   "source": [
    "# libraries\n",
    "import pandas as pd\n",
    "from scipy.stats import rankdata"
   ]
  },
  {
   "cell_type": "code",
   "execution_count": 15,
   "metadata": {},
   "outputs": [],
   "source": [
    "# import data\n",
    "a = pd.read_csv(\"../submissions/hybridII.csv\")\n",
    "b = pd.read_csv(\"../submissions/submission_kernel02 (2).csv\")\n",
    "c = pd.read_csv(\"../submissions/stack3_diff_data.csv\")\n",
    "d = pd.read_csv(\"../submissions/794384_bagged_lgb_f1830_top1000.csv\")\n",
    "e = pd.read_csv(\"../submissions/794324_bagged_lgb_f_top1000.csv\")\n",
    "f = pd.read_csv(\"../submissions/bagged_lgb_f1829_noextsource.csv\")\n",
    "g = pd.read_csv(\"../submissions/submission_with selected_features.csv\")"
   ]
  },
  {
   "cell_type": "code",
   "execution_count": 16,
   "metadata": {},
   "outputs": [],
   "source": [
    "#a[\"TARGET\"] = (a.TARGET + b.TARGET + c.TARGET)*(1/3)"
   ]
  },
  {
   "cell_type": "code",
   "execution_count": 17,
   "metadata": {},
   "outputs": [],
   "source": [
    "#a[\"TARGET\"] = (a.TARGET * b.TARGET * c.TARGET)**(1/3)"
   ]
  },
  {
   "cell_type": "code",
   "execution_count": 18,
   "metadata": {},
   "outputs": [],
   "source": [
    "a[\"TARGET\"] = (rankdata(a.TARGET) +\n",
    "               rankdata(b.TARGET) +  \n",
    "               rankdata(c.TARGET) + \n",
    "               rankdata(d.TARGET) +\n",
    "               rankdata(e.TARGET) +\n",
    "               rankdata(f.TARGET) +\n",
    "               rankdata(g.TARGET))\n",
    "\n",
    "a[\"TARGET\"] = (a.TARGET - a.TARGET.min()) / (a.TARGET.max() - a.TARGET.min())"
   ]
  },
  {
   "cell_type": "code",
   "execution_count": 21,
   "metadata": {},
   "outputs": [
    {
     "data": {
      "text/plain": [
       "SpearmanrResult(correlation=0.999328033368798, pvalue=0.0)"
      ]
     },
     "execution_count": 21,
     "metadata": {},
     "output_type": "execute_result"
    }
   ],
   "source": [
    "# check rank correlation with the best submission\n",
    "from scipy.stats import spearmanr\n",
    "best = pd.read_csv(\"../submissions/rmean_top6_19062018.csv\")\n",
    "spearmanr(a.TARGET, best.TARGET)"
   ]
  },
  {
   "cell_type": "code",
   "execution_count": 22,
   "metadata": {},
   "outputs": [],
   "source": [
    "# export CSV\n",
    "a.to_csv(\"../submissions/rmean_top7_03072018.csv\", index = False, float_format = \"%.8f\")"
   ]
  }
 ],
 "metadata": {
  "kernelspec": {
   "display_name": "Python 3",
   "language": "python",
   "name": "python3"
  },
  "language_info": {
   "codemirror_mode": {
    "name": "ipython",
    "version": 3
   },
   "file_extension": ".py",
   "mimetype": "text/x-python",
   "name": "python",
   "nbconvert_exporter": "python",
   "pygments_lexer": "ipython3",
   "version": "3.6.5"
  }
 },
 "nbformat": 4,
 "nbformat_minor": 2
}
