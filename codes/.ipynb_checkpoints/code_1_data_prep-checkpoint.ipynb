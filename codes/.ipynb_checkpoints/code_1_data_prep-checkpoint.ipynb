{
 "cells": [
  {
   "cell_type": "markdown",
   "metadata": {},
   "source": [
    "# 1. SETTINGS"
   ]
  },
  {
   "cell_type": "code",
   "execution_count": 1,
   "metadata": {},
   "outputs": [],
   "source": [
    "# libraries\n",
    "import pandas as pd\n",
    "import numpy as np\n",
    "import scipy.stats\n",
    "import gc"
   ]
  },
  {
   "cell_type": "code",
   "execution_count": 2,
   "metadata": {},
   "outputs": [],
   "source": [
    "# garbage collection\n",
    "gc.enable()"
   ]
  },
  {
   "cell_type": "markdown",
   "metadata": {},
   "source": [
    "# 2. DATA PREPARATION"
   ]
  },
  {
   "cell_type": "markdown",
   "metadata": {},
   "source": [
    "## 2.1. IMPORT"
   ]
  },
  {
   "cell_type": "code",
   "execution_count": 3,
   "metadata": {},
   "outputs": [],
   "source": [
    "# import data\n",
    "train = pd.read_csv(\"../data/raw/application_train.csv\")\n",
    "test  = pd.read_csv(\"../data/raw/application_test.csv\")\n",
    "prev  = pd.read_csv(\"../data/raw/previous_application.csv\")\n",
    "buro  = pd.read_csv(\"../data/raw/bureau.csv\")\n",
    "bbal  = pd.read_csv(\"../data/raw/bureau_balance.csv\")\n",
    "card  = pd.read_csv(\"../data/raw/credit_card_balance.csv\")\n",
    "poca  = pd.read_csv(\"../data/raw/POS_CASH_balance.csv\")\n",
    "inst  = pd.read_csv(\"../data/raw/installments_payments.csv\")"
   ]
  },
  {
   "cell_type": "code",
   "execution_count": 4,
   "metadata": {},
   "outputs": [
    {
     "name": "stdout",
     "output_type": "stream",
     "text": [
      "(307511, 122)\n",
      "(48744, 121)\n",
      "(1670214, 37)\n",
      "(1716428, 17)\n",
      "(27299925, 3)\n",
      "(3840312, 23)\n",
      "(10001358, 8)\n",
      "(13605401, 8)\n"
     ]
    }
   ],
   "source": [
    "# check dimensions\n",
    "print(train.shape)\n",
    "print(test.shape)\n",
    "print(prev.shape)\n",
    "print(buro.shape)\n",
    "print(bbal.shape)\n",
    "print(card.shape)\n",
    "print(poca.shape)\n",
    "print(inst.shape)"
   ]
  },
  {
   "cell_type": "markdown",
   "metadata": {},
   "source": [
    "## 2.2. PREPROCESSING"
   ]
  },
  {
   "cell_type": "code",
   "execution_count": 5,
   "metadata": {},
   "outputs": [],
   "source": [
    "# extract target\n",
    "y = train[\"TARGET\"]\n",
    "del train[\"TARGET\"]"
   ]
  },
  {
   "cell_type": "code",
   "execution_count": 6,
   "metadata": {},
   "outputs": [],
   "source": [
    "# rename basic features\n",
    "train.columns = [\"SK_ID_CURR\"] + [\"base_\" + str(col) for col in train.columns if col not in \"SK_ID_CURR\"]\n",
    "test.columns  = [\"SK_ID_CURR\"] + [\"base_\" + str(col) for col in test.columns  if col not in \"SK_ID_CURR\"]"
   ]
  },
  {
   "cell_type": "code",
   "execution_count": 7,
   "metadata": {},
   "outputs": [],
   "source": [
    "##### CONVERT FACTOR FEATURES\n",
    "\n",
    "### train and test\n",
    "factors = [f for f in train.columns if train[f].dtype == \"object\"]\n",
    "for f in factors:\n",
    "    train[f], indexer = pd.factorize(train[f])\n",
    "    test[f] = indexer.get_indexer(test[f])\n",
    "    \n",
    "### prev\n",
    "prev_factors = [f for f in prev.columns if prev[f].dtype == \"object\"]\n",
    "for f in prev_factors:\n",
    "    prev[f], _ = pd.factorize(prev[f])\n",
    "    \n",
    "### buro\n",
    "buro_factors = [f for f in buro.columns if buro[f].dtype == \"object\"]\n",
    "for f in buro_factors:\n",
    "    buro[f], _ = pd.factorize(buro[f])\n",
    "    \n",
    "### bbal\n",
    "bbal_factors = [f for f in bbal.columns if bbal[f].dtype == \"object\"]\n",
    "for f in bbal_factors:\n",
    "    bbal[f], _ = pd.factorize(bbal[f])\n",
    "    \n",
    "### card\n",
    "card_factors = [f for f in card.columns if card[f].dtype == \"object\"]\n",
    "for f in card_factors:\n",
    "    card[f], _ = pd.factorize(card[f])\n",
    "    \n",
    "### poca\n",
    "poca_factors = [f for f in poca.columns if poca[f].dtype == \"object\"]\n",
    "for f in poca_factors:\n",
    "    poca[f], _ = pd.factorize(poca[f])\n",
    "    \n",
    "### inst\n",
    "inst_factors = [f for f in inst.columns if inst[f].dtype == \"object\"]\n",
    "for f in inst_factors:\n",
    "    inst[f], _ = pd.factorize(inst[f])"
   ]
  },
  {
   "cell_type": "markdown",
   "metadata": {},
   "source": [
    "## 2.3. AGGREGATIONS"
   ]
  },
  {
   "cell_type": "code",
   "execution_count": 8,
   "metadata": {
    "scrolled": true
   },
   "outputs": [
    {
     "name": "stdout",
     "output_type": "stream",
     "text": [
      "(338857, 20)\n",
      "(103558, 20)\n",
      "(337252, 5)\n",
      "(339587, 6)\n",
      "(305811, 16)\n"
     ]
    }
   ],
   "source": [
    "##### AGGREGATE FEATURES: MEANS\n",
    "\n",
    "### prev\n",
    "avg_prev = prev[list(set(prev.columns) - set(prev_factors))]\n",
    "avg_prev = avg_prev.groupby(\"SK_ID_CURR\").mean()\n",
    "cnt_prev = prev[[\"SK_ID_CURR\", \"SK_ID_PREV\"]].groupby(\"SK_ID_CURR\").count()\n",
    "avg_prev[\"app_count\"] = cnt_prev[\"SK_ID_PREV\"]\n",
    "del avg_prev[\"SK_ID_PREV\"]\n",
    "avg_prev.columns = [\"prev_\" + str(col) + \"_mean\" for col in avg_prev.columns]\n",
    "print(avg_prev.shape)\n",
    "\n",
    "### card\n",
    "avg_card = card[list(set(card.columns) - set(card_factors))]\n",
    "avg_card = avg_card.groupby(\"SK_ID_CURR\").mean()\n",
    "del avg_card[\"SK_ID_PREV\"]\n",
    "avg_card.columns = [\"card_\" + str(col) + \"_mean\" for col in avg_card.columns]\n",
    "print(avg_card.shape)\n",
    "\n",
    "### poca\n",
    "avg_poca = poca[list(set(poca.columns) - set(poca_factors))]\n",
    "avg_poca = avg_poca.groupby(\"SK_ID_CURR\").mean()\n",
    "del avg_poca[\"SK_ID_PREV\"]\n",
    "avg_poca.columns = [\"poca_\" + str(col) + \"_mean\" for col in avg_poca.columns]\n",
    "print(avg_poca.shape)\n",
    "\n",
    "### inst\n",
    "avg_inst = inst[list(set(inst.columns) - set(inst_factors))]\n",
    "avg_inst = avg_inst.groupby(\"SK_ID_CURR\").mean()\n",
    "del avg_inst[\"SK_ID_PREV\"]\n",
    "avg_inst.columns = [\"inst_\" + str(col) + \"_mean\" for col in avg_inst.columns]\n",
    "print(avg_inst.shape)\n",
    "\n",
    "### buro + bbal\n",
    "avg_buro = buro[list(set(buro.columns) - set(buro_factors))]\n",
    "avg_buro = avg_buro.groupby(\"SK_ID_CURR\").mean()\n",
    "avg_buro[\"buro_count\"] = buro[[\"SK_ID_BUREAU\",\"SK_ID_CURR\"]].groupby(\"SK_ID_CURR\").count()[\"SK_ID_BUREAU\"]\n",
    "avg_buro[\"SK_ID_CURR\"] = avg_buro.index\n",
    "avg_bbal = bbal[list(set(bbal.columns) - set(bbal_factors))]\n",
    "avg_bbal = bbal.groupby(\"SK_ID_BUREAU\").mean()\n",
    "avg_buro = avg_buro.merge(right = avg_bbal.reset_index(), how = \"left\", on = \"SK_ID_BUREAU\")\n",
    "del avg_buro[\"SK_ID_BUREAU\"]\n",
    "avg_buro = avg_buro[[\"SK_ID_CURR\"] + [col for col in avg_buro.columns if col not in \"SK_ID_CURR\"]]\n",
    "avg_buro.columns = [\"SK_ID_CURR\"] + [\"buro_\" + str(col) + \"_mean\" for col in avg_buro.columns if col not in \"SK_ID_CURR\"]\n",
    "print(avg_buro.shape)"
   ]
  },
  {
   "cell_type": "code",
   "execution_count": 9,
   "metadata": {},
   "outputs": [
    {
     "name": "stdout",
     "output_type": "stream",
     "text": [
      "(338857, 19)\n",
      "(103558, 20)\n",
      "(337252, 5)\n",
      "(339587, 6)\n",
      "(305811, 14)\n"
     ]
    }
   ],
   "source": [
    "##### AGGREGATE FEATURES: SDS\n",
    "\n",
    "### prev\n",
    "std_prev = prev[list(set(prev.columns) - set(prev_factors))]\n",
    "std_prev = std_prev.groupby(\"SK_ID_CURR\").std()\n",
    "missings = std_prev.isnull().sum()\n",
    "nan_vars = list(missings[missings > 0].index)\n",
    "for var in nan_vars:\n",
    "    std_prev[var] = std_prev[var].fillna(0)\n",
    "del std_prev[\"SK_ID_PREV\"]\n",
    "std_prev.columns = [\"prev_\" + str(col) + \"_sd\" for col in std_prev.columns]\n",
    "print(std_prev.shape)\n",
    "\n",
    "### card\n",
    "std_card = card[list(set(card.columns) - set(card_factors))]\n",
    "std_card = std_card.groupby(\"SK_ID_CURR\").std()\n",
    "missings = std_card.isnull().sum()\n",
    "nan_vars = list(missings[missings > 0].index)\n",
    "for var in nan_vars:\n",
    "    std_card[var] = std_card[var].fillna(0)\n",
    "del std_card[\"SK_ID_PREV\"]\n",
    "std_card.columns = [\"card_\" + str(col) + \"_sd\" for col in std_card.columns]\n",
    "print(std_card.shape)\n",
    "\n",
    "### poca\n",
    "std_poca = poca[list(set(poca.columns) - set(poca_factors))]\n",
    "std_poca = std_poca.groupby(\"SK_ID_CURR\").std()\n",
    "missings = std_poca.isnull().sum()\n",
    "nan_vars = list(missings[missings > 0].index)\n",
    "for var in nan_vars:\n",
    "    std_poca[var] = std_poca[var].fillna(0)\n",
    "del std_poca[\"SK_ID_PREV\"]\n",
    "std_poca.columns = [\"poca_\" + str(col) + \"_sd\" for col in std_poca.columns]\n",
    "print(std_poca.shape)\n",
    "\n",
    "### inst\n",
    "std_inst = inst[list(set(inst.columns) - set(inst_factors))]\n",
    "std_inst = std_inst.groupby(\"SK_ID_CURR\").std()\n",
    "missings = std_inst.isnull().sum()\n",
    "nan_vars = list(missings[missings > 0].index)\n",
    "for var in nan_vars:\n",
    "    std_inst[var] = std_inst[var].fillna(0)\n",
    "del std_inst[\"SK_ID_PREV\"]\n",
    "std_inst.columns = [\"inst_\" + str(col) + \"_sd\" for col in std_inst.columns]\n",
    "print(std_inst.shape)\n",
    "\n",
    "### buro + bbal\n",
    "std_buro = buro[list(set(buro.columns) - set(buro_factors))]\n",
    "std_buro = std_buro.groupby(\"SK_ID_CURR\").std()\n",
    "std_buro[\"SK_ID_CURR\"] = std_buro.index\n",
    "std_bbal = bbal[list(set(bbal.columns) - set(bbal_factors))]\n",
    "std_bbal = std_bbal.groupby(\"SK_ID_BUREAU\").std()\n",
    "std_buro = std_buro.merge(right = std_bbal.reset_index(), how = \"left\", on = \"SK_ID_BUREAU\")\n",
    "del std_buro[\"SK_ID_BUREAU\"]\n",
    "std_buro = std_buro[[\"SK_ID_CURR\"] + [col for col in std_buro.columns if col not in \"SK_ID_CURR\"]]\n",
    "std_buro.columns = [\"SK_ID_CURR\"] + [\"buro_\" + str(col) + \"_sd\" for col in std_buro.columns if col not in \"SK_ID_CURR\"]\n",
    "print(std_buro.shape)"
   ]
  },
  {
   "cell_type": "code",
   "execution_count": 10,
   "metadata": {
    "scrolled": true
   },
   "outputs": [
    {
     "name": "stdout",
     "output_type": "stream",
     "text": [
      "(338857, 19)\n",
      "(103558, 20)\n",
      "(337252, 5)\n",
      "(339587, 6)\n",
      "(305811, 14)\n"
     ]
    }
   ],
   "source": [
    "##### AGGREGATE FEATURES: MINS\n",
    "\n",
    "### prev\n",
    "min_prev = prev[list(set(prev.columns) - set(prev_factors))]\n",
    "min_prev = min_prev.groupby(\"SK_ID_CURR\").min()\n",
    "missings = min_prev.isnull().sum()\n",
    "nan_vars = list(missings[missings > 0].index)\n",
    "for var in nan_vars:\n",
    "    min_prev[var] = min_prev[var].fillna(0)\n",
    "del min_prev[\"SK_ID_PREV\"]\n",
    "min_prev.columns = [\"prev_\" + str(col) + \"_min\" for col in min_prev.columns]\n",
    "print(min_prev.shape)\n",
    "\n",
    "### card\n",
    "min_card = card[list(set(card.columns) - set(card_factors))]\n",
    "min_card = min_card.groupby(\"SK_ID_CURR\").min()\n",
    "missings = min_card.isnull().sum()\n",
    "nan_vars = list(missings[missings > 0].index)\n",
    "for var in nan_vars:\n",
    "    min_card[var] = min_card[var].fillna(0)\n",
    "del min_card[\"SK_ID_PREV\"]\n",
    "min_card.columns = [\"card_\" + str(col) + \"_min\" for col in min_card.columns]\n",
    "print(min_card.shape)\n",
    "\n",
    "### poca\n",
    "min_poca = poca[list(set(poca.columns) - set(poca_factors))]\n",
    "min_poca = min_poca.groupby(\"SK_ID_CURR\").min()\n",
    "missings = min_poca.isnull().sum()\n",
    "nan_vars = list(missings[missings > 0].index)\n",
    "for var in nan_vars:\n",
    "    min_poca[var] = min_poca[var].fillna(0)\n",
    "del min_poca[\"SK_ID_PREV\"]\n",
    "min_poca.columns = [\"poca_\" + str(col) + \"_min\" for col in min_poca.columns]\n",
    "print(min_poca.shape)\n",
    "\n",
    "### inst\n",
    "min_inst = inst[list(set(inst.columns) - set(inst_factors))]\n",
    "min_inst = min_inst.groupby(\"SK_ID_CURR\").min()\n",
    "missings = min_inst.isnull().sum()\n",
    "nan_vars = list(missings[missings > 0].index)\n",
    "for var in nan_vars:\n",
    "    min_inst[var] = min_inst[var].fillna(0)\n",
    "del min_inst[\"SK_ID_PREV\"]\n",
    "min_inst.columns = [\"inst_\" + str(col) + \"_min\" for col in min_inst.columns]\n",
    "print(min_inst.shape)\n",
    "\n",
    "### buro + bbal\n",
    "min_buro = buro[list(set(buro.columns) - set(buro_factors))]\n",
    "min_buro = min_buro.groupby(\"SK_ID_CURR\").min()\n",
    "min_buro[\"SK_ID_CURR\"] = min_buro.index\n",
    "min_bbal = bbal[list(set(bbal.columns) - set(bbal_factors))]\n",
    "min_bbal = min_bbal.groupby(\"SK_ID_BUREAU\").min()\n",
    "min_buro = min_buro.merge(right = min_bbal.reset_index(), how = \"left\", on = \"SK_ID_BUREAU\")\n",
    "del min_buro[\"SK_ID_BUREAU\"]\n",
    "min_buro = min_buro[[\"SK_ID_CURR\"] + [col for col in min_buro.columns if col not in \"SK_ID_CURR\"]]\n",
    "min_buro.columns = [\"SK_ID_CURR\"] + [\"buro_\" + str(col) + \"_min\" for col in min_buro.columns if col not in \"SK_ID_CURR\"]\n",
    "print(min_buro.shape)"
   ]
  },
  {
   "cell_type": "code",
   "execution_count": 11,
   "metadata": {
    "scrolled": true
   },
   "outputs": [
    {
     "name": "stdout",
     "output_type": "stream",
     "text": [
      "(338857, 19)\n",
      "(103558, 20)\n",
      "(337252, 5)\n",
      "(339587, 6)\n",
      "(305811, 14)\n"
     ]
    }
   ],
   "source": [
    "##### AGGREGATE FEATURES: MAXS\n",
    "\n",
    "### prev\n",
    "max_prev = prev[list(set(prev.columns) - set(prev_factors))]\n",
    "max_prev = max_prev.groupby(\"SK_ID_CURR\").max()\n",
    "missings = max_prev.isnull().sum()\n",
    "nan_vars = list(missings[missings > 0].index)\n",
    "for var in nan_vars:\n",
    "    max_prev[var] = max_prev[var].fillna(0)\n",
    "del max_prev[\"SK_ID_PREV\"]\n",
    "max_prev.columns = [\"prev_\" + str(col) + \"_max\" for col in max_prev.columns]\n",
    "print(max_prev.shape)\n",
    "\n",
    "### card\n",
    "max_card = card[list(set(card.columns) - set(card_factors))]\n",
    "max_card = max_card.groupby(\"SK_ID_CURR\").max()\n",
    "missings = max_card.isnull().sum()\n",
    "nan_vars = list(missings[missings > 0].index)\n",
    "for var in nan_vars:\n",
    "    max_card[var] = max_card[var].fillna(0)\n",
    "del max_card[\"SK_ID_PREV\"]\n",
    "max_card.columns = [\"card_\" + str(col) + \"_max\" for col in max_card.columns]\n",
    "print(max_card.shape)\n",
    "\n",
    "### poca\n",
    "max_poca = poca[list(set(poca.columns) - set(poca_factors))]\n",
    "max_poca = max_poca.groupby(\"SK_ID_CURR\").max()\n",
    "missings = max_poca.isnull().sum()\n",
    "nan_vars = list(missings[missings > 0].index)\n",
    "for var in nan_vars:\n",
    "    max_poca[var] = max_poca[var].fillna(0)\n",
    "del max_poca[\"SK_ID_PREV\"]\n",
    "max_poca.columns = [\"poca_\" + str(col) + \"_max\" for col in max_poca.columns]\n",
    "print(max_poca.shape)\n",
    "\n",
    "### inst\n",
    "max_inst = inst[list(set(inst.columns) - set(inst_factors))]\n",
    "max_inst = max_inst.groupby(\"SK_ID_CURR\").max()\n",
    "missings = max_inst.isnull().sum()\n",
    "nan_vars = list(missings[missings > 0].index)\n",
    "for var in nan_vars:\n",
    "    max_inst[var] = max_inst[var].fillna(0)\n",
    "del max_inst[\"SK_ID_PREV\"]\n",
    "max_inst.columns = [\"inst_\" + str(col) + \"_max\" for col in max_inst.columns]\n",
    "print(max_inst.shape)\n",
    "\n",
    "### buro + bbal\n",
    "max_buro = buro[list(set(buro.columns) - set(buro_factors))]\n",
    "max_buro = max_buro.groupby(\"SK_ID_CURR\").max()\n",
    "max_buro[\"SK_ID_CURR\"] = max_buro.index\n",
    "max_bbal = bbal[list(set(bbal.columns) - set(bbal_factors))]\n",
    "max_bbal = max_bbal.groupby(\"SK_ID_BUREAU\").max()\n",
    "max_buro = max_buro.merge(right = max_bbal.reset_index(), how = \"left\", on = \"SK_ID_BUREAU\")\n",
    "del max_buro[\"SK_ID_BUREAU\"]\n",
    "max_buro = max_buro[[\"SK_ID_CURR\"] + [col for col in max_buro.columns if col not in \"SK_ID_CURR\"]]\n",
    "max_buro.columns = [\"SK_ID_CURR\"] + [\"buro_\" + str(col) + \"_max\" for col in max_buro.columns if col not in \"SK_ID_CURR\"]\n",
    "print(max_buro.shape)"
   ]
  },
  {
   "cell_type": "code",
   "execution_count": 12,
   "metadata": {},
   "outputs": [
    {
     "name": "stdout",
     "output_type": "stream",
     "text": [
      "(338857, 17)\n",
      "(103558, 2)\n",
      "(337252, 2)\n",
      "(339587, 1)\n",
      "(305811, 6)\n"
     ]
    }
   ],
   "source": [
    "##### AGGREGATE FEATURES: MODES\n",
    "\n",
    "### prev\n",
    "mod_prev = prev[prev_factors + [\"SK_ID_CURR\"]]\n",
    "mod_prev = mod_prev.groupby(\"SK_ID_CURR\").agg(lambda x: scipy.stats.mode(x)[0][0]).reset_index()\n",
    "mod_prev.columns = [\"SK_ID_CURR\"] + [\"prev_\" + str(col) + \"_mode\" for col in mod_prev.columns if col not in \"SK_ID_CURR\"]\n",
    "print(mod_prev.shape)\n",
    "\n",
    "### card\n",
    "mod_card = card[card_factors + [\"SK_ID_CURR\"]]\n",
    "mod_card = mod_card.groupby(\"SK_ID_CURR\").agg(lambda x: scipy.stats.mode(x)[0][0]).reset_index()\n",
    "mod_card.columns = [\"SK_ID_CURR\"] + [\"card_\" + str(col) + \"_mode\" for col in mod_card.columns if col not in \"SK_ID_CURR\"]\n",
    "print(mod_card.shape)\n",
    "\n",
    "### poca\n",
    "mod_poca = poca[poca_factors + [\"SK_ID_CURR\"]]\n",
    "mod_poca = mod_poca.groupby(\"SK_ID_CURR\").agg(lambda x: scipy.stats.mode(x)[0][0]).reset_index()\n",
    "mod_poca.columns = [\"SK_ID_CURR\"] + [\"poca_\" + str(col) + \"_mode\" for col in mod_poca.columns if col not in \"SK_ID_CURR\"]\n",
    "print(mod_poca.shape)\n",
    "\n",
    "### inst\n",
    "mod_inst = inst[inst_factors + [\"SK_ID_CURR\"]]\n",
    "mod_inst = mod_inst.groupby(\"SK_ID_CURR\").agg(lambda x: scipy.stats.mode(x)[0][0]).reset_index()\n",
    "mod_inst.columns = [\"SK_ID_CURR\"] + [\"inst_\" + str(col) + \"_mode\" for col in mod_inst.columns if col not in \"SK_ID_CURR\"]\n",
    "print(mod_inst.shape)\n",
    "\n",
    "### buro + bbal\n",
    "mod_buro = buro[buro_factors + [\"SK_ID_CURR\", \"SK_ID_BUREAU\"]]\n",
    "mod_buro = mod_buro.groupby(\"SK_ID_CURR\").agg(lambda x: scipy.stats.mode(x)[0][0]).reset_index()\n",
    "mod_bbal = bbal[bbal_factors + [\"SK_ID_BUREAU\"]]\n",
    "mod_bbal = mod_bbal.groupby(\"SK_ID_BUREAU\").agg(lambda x: scipy.stats.mode(x)[0][0]).reset_index()\n",
    "mod_buro = mod_buro.merge(right = mod_bbal.reset_index(), how = \"left\", on = \"SK_ID_BUREAU\")\n",
    "del mod_buro[\"SK_ID_BUREAU\"]\n",
    "mod_buro.columns = [\"SK_ID_CURR\"] + [\"buro_\" + str(col) + \"_mode\" for col in mod_buro.columns if col not in \"SK_ID_CURR\"]\n",
    "print(mod_buro.shape)"
   ]
  },
  {
   "cell_type": "markdown",
   "metadata": {},
   "source": [
    "## 2.4. MERGING DATA"
   ]
  },
  {
   "cell_type": "code",
   "execution_count": 13,
   "metadata": {},
   "outputs": [],
   "source": [
    "### DESCRIPTIVE STATS\n",
    "\n",
    "# prev\n",
    "all_prev = mod_prev.merge(right = avg_prev.reset_index(), how = \"left\", on = \"SK_ID_CURR\")\n",
    "all_prev = all_prev.merge(right = std_prev.reset_index(), how = \"left\", on = \"SK_ID_CURR\")\n",
    "all_prev = all_prev.merge(right = min_prev.reset_index(), how = \"left\", on = \"SK_ID_CURR\")\n",
    "all_prev = all_prev.merge(right = max_prev.reset_index(), how = \"left\", on = \"SK_ID_CURR\")\n",
    "\n",
    "# card\n",
    "all_card = mod_card.merge(right = avg_card.reset_index(), how = \"left\", on = \"SK_ID_CURR\")\n",
    "all_card = all_card.merge(right = std_card.reset_index(), how = \"left\", on = \"SK_ID_CURR\")\n",
    "all_card = all_card.merge(right = min_card.reset_index(), how = \"left\", on = \"SK_ID_CURR\")\n",
    "all_card = all_card.merge(right = max_card.reset_index(), how = \"left\", on = \"SK_ID_CURR\")\n",
    "\n",
    "# poca\n",
    "all_poca = mod_poca.merge(right = avg_poca.reset_index(), how = \"left\", on = \"SK_ID_CURR\")\n",
    "all_poca = all_poca.merge(right = std_poca.reset_index(), how = \"left\", on = \"SK_ID_CURR\")\n",
    "all_poca = all_poca.merge(right = min_poca.reset_index(), how = \"left\", on = \"SK_ID_CURR\")\n",
    "all_poca = all_poca.merge(right = max_poca.reset_index(), how = \"left\", on = \"SK_ID_CURR\")\n",
    "\n",
    "# inst\n",
    "all_inst = mod_inst.merge(right = avg_inst.reset_index(), how = \"left\", on = \"SK_ID_CURR\")\n",
    "all_inst = all_inst.merge(right = std_inst.reset_index(), how = \"left\", on = \"SK_ID_CURR\")\n",
    "all_inst = all_inst.merge(right = min_inst.reset_index(), how = \"left\", on = \"SK_ID_CURR\")\n",
    "all_inst = all_inst.merge(right = max_inst.reset_index(), how = \"left\", on = \"SK_ID_CURR\")\n",
    "\n",
    "# buro\n",
    "all_buro = mod_buro.merge(right = avg_buro, how = \"left\", on = \"SK_ID_CURR\")\n",
    "all_buro = all_buro.merge(right = std_buro, how = \"left\", on = \"SK_ID_CURR\")\n",
    "all_buro = all_buro.merge(right = min_buro, how = \"left\", on = \"SK_ID_CURR\")\n",
    "all_buro = all_buro.merge(right = max_buro, how = \"left\", on = \"SK_ID_CURR\")"
   ]
  },
  {
   "cell_type": "code",
   "execution_count": 14,
   "metadata": {},
   "outputs": [],
   "source": [
    "### TRAIN AND TEST\n",
    "\n",
    "# train\n",
    "train = train.merge(right = all_prev, how = \"left\", on = \"SK_ID_CURR\")\n",
    "train = train.merge(right = all_card, how = \"left\", on = \"SK_ID_CURR\")\n",
    "train = train.merge(right = all_poca, how = \"left\", on = \"SK_ID_CURR\")\n",
    "train = train.merge(right = all_inst, how = \"left\", on = \"SK_ID_CURR\")\n",
    "train = train.merge(right = all_buro, how = \"left\", on = \"SK_ID_CURR\")\n",
    "\n",
    "# test\n",
    "test = test.merge(right = all_prev, how = \"left\", on = \"SK_ID_CURR\")\n",
    "test = test.merge(right = all_card, how = \"left\", on = \"SK_ID_CURR\")\n",
    "test = test.merge(right = all_poca, how = \"left\", on = \"SK_ID_CURR\")\n",
    "test = test.merge(right = all_inst, how = \"left\", on = \"SK_ID_CURR\")\n",
    "test = test.merge(right = all_buro, how = \"left\", on = \"SK_ID_CURR\")"
   ]
  },
  {
   "cell_type": "markdown",
   "metadata": {},
   "source": [
    "## 2.5. EXPORT"
   ]
  },
  {
   "cell_type": "code",
   "execution_count": 15,
   "metadata": {},
   "outputs": [
    {
     "name": "stdout",
     "output_type": "stream",
     "text": [
      "(307511, 399)\n",
      "(48744, 399)\n"
     ]
    }
   ],
   "source": [
    "# check dimensions\n",
    "print(train.shape)\n",
    "print(test.shape)"
   ]
  },
  {
   "cell_type": "code",
   "execution_count": 16,
   "metadata": {},
   "outputs": [],
   "source": [
    "# export CSV\n",
    "train.to_csv(\"../data/prepared/train.csv\", index = False, float_format = \"%.8f\")\n",
    "test.to_csv(\"../data/prepared/test.csv\",   index = False, float_format = \"%.8f\")\n",
    "y.to_csv(\"../data/prepared/y.csv\",         index = False, float_format = \"%.8f\")"
   ]
  }
 ],
 "metadata": {
  "kernelspec": {
   "display_name": "Python 3",
   "language": "python",
   "name": "python3"
  },
  "language_info": {
   "codemirror_mode": {
    "name": "ipython",
    "version": 3
   },
   "file_extension": ".py",
   "mimetype": "text/x-python",
   "name": "python",
   "nbconvert_exporter": "python",
   "pygments_lexer": "ipython3",
   "version": "3.6.5"
  }
 },
 "nbformat": 4,
 "nbformat_minor": 2
}
