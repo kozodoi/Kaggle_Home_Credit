{
 "cells": [
  {
   "cell_type": "markdown",
   "metadata": {},
   "source": [
    "# 1. SETTINGS"
   ]
  },
  {
   "cell_type": "code",
   "execution_count": 97,
   "metadata": {},
   "outputs": [],
   "source": [
    "# libraries\n",
    "import pandas as pd\n",
    "import numpy as np\n",
    "from sklearn.metrics import roc_auc_score\n",
    "from sklearn.model_selection import StratifiedKFold\n",
    "import lightgbm as lgb\n",
    "import seaborn as sns\n",
    "import matplotlib.pyplot as plt"
   ]
  },
  {
   "cell_type": "code",
   "execution_count": 98,
   "metadata": {},
   "outputs": [],
   "source": [
    "# garbage collection\n",
    "import gc\n",
    "gc.enable()"
   ]
  },
  {
   "cell_type": "code",
   "execution_count": 99,
   "metadata": {},
   "outputs": [],
   "source": [
    "# pandas options\n",
    "pd.set_option(\"display.max_columns\", None)"
   ]
  },
  {
   "cell_type": "code",
   "execution_count": 100,
   "metadata": {},
   "outputs": [],
   "source": [
    "# ignore warnings\n",
    "import warnings\n",
    "warnings.filterwarnings(\"ignore\")"
   ]
  },
  {
   "cell_type": "code",
   "execution_count": 101,
   "metadata": {},
   "outputs": [],
   "source": [
    "# random settings\n",
    "seed = 42"
   ]
  },
  {
   "cell_type": "markdown",
   "metadata": {},
   "source": [
    "# 2. PREPARATIONS"
   ]
  },
  {
   "cell_type": "code",
   "execution_count": 102,
   "metadata": {},
   "outputs": [],
   "source": [
    "# dataset\n",
    "data = \"v1\""
   ]
  },
  {
   "cell_type": "code",
   "execution_count": null,
   "metadata": {},
   "outputs": [],
   "source": [
    "# import data\n",
    "train = pd.read_csv(\"../data/prepared/train_\" + str(data) + \".csv\")\n",
    "test  = pd.read_csv(\"../data/prepared/test_\"  + str(data) + \".csv\")\n",
    "y     = pd.read_csv(\"../data/prepared/y_\"     + str(data) + \".csv\")"
   ]
  },
  {
   "cell_type": "code",
   "execution_count": null,
   "metadata": {},
   "outputs": [],
   "source": [
    "# sort data\n",
    "train = train.sort_values(\"SK_ID_CURR\")\n",
    "y     = y.sort_values(\"SK_ID_CURR\")"
   ]
  },
  {
   "cell_type": "code",
   "execution_count": null,
   "metadata": {},
   "outputs": [],
   "source": [
    "# extract target\n",
    "y = y[\"TARGET\"]"
   ]
  },
  {
   "cell_type": "code",
   "execution_count": null,
   "metadata": {},
   "outputs": [],
   "source": [
    "# exclude features\n",
    "excluded_feats = [\"SK_ID_CURR\"]\n",
    "features = [f for f in train.columns if f not in excluded_feats]"
   ]
  },
  {
   "cell_type": "code",
   "execution_count": null,
   "metadata": {},
   "outputs": [],
   "source": [
    "# check dimensions\n",
    "print(train[features].shape)\n",
    "print(test[features].shape)"
   ]
  },
  {
   "cell_type": "code",
   "execution_count": null,
   "metadata": {},
   "outputs": [],
   "source": [
    "### PARAMETERS\n",
    "\n",
    "# parallel settings\n",
    "cores = 10\n",
    "\n",
    "# learner settings\n",
    "metric   = \"auc\"\n",
    "verbose  = 500\n",
    "stopping = 300\n",
    "\n",
    "# CV settings\n",
    "num_folds = 5\n",
    "shuffle   = True\n",
    "\n",
    "# lightGBM\n",
    "gbm = lgb.LGBMClassifier(n_estimators     = 10000,\n",
    "                         learning_rate    = 0.005,\n",
    "                         num_leaves       = 70,\n",
    "                         colsample_bytree = 0.8,\n",
    "                         subsample        = 0.9,\n",
    "                         max_depth        = 7,\n",
    "                         reg_alpha        = 0.1,\n",
    "                         reg_lambda       = 0.1,\n",
    "                         min_split_gain   = 0.01,\n",
    "                         min_child_weight = 2,\n",
    "                         random_state     = seed,\n",
    "                         num_threads      = cores)"
   ]
  },
  {
   "cell_type": "markdown",
   "metadata": {},
   "source": [
    "# 3. CROSS-VALIDATION"
   ]
  },
  {
   "cell_type": "markdown",
   "metadata": {},
   "source": [
    "## 3.1. ALL FEATURES"
   ]
  },
  {
   "cell_type": "code",
   "execution_count": null,
   "metadata": {},
   "outputs": [],
   "source": [
    "# data partitinoing\n",
    "folds = StratifiedKFold(n_splits = num_folds, random_state = seed, shuffle = shuffle)\n",
    "\n",
    "# placeholders\n",
    "valid_aucs_cv = np.zeros(num_folds) \n",
    "test_preds_cv = np.zeros(test.shape[0])\n",
    "feature_importance_df = pd.DataFrame()"
   ]
  },
  {
   "cell_type": "code",
   "execution_count": null,
   "metadata": {},
   "outputs": [],
   "source": [
    "### CROSS-VALIDATION LOOP\n",
    "for n_fold, (trn_idx, val_idx) in enumerate(folds.split(train, y)):\n",
    "    \n",
    "    # data partitioning\n",
    "    trn_x, trn_y = train[features].iloc[trn_idx], y.iloc[trn_idx]\n",
    "    val_x, val_y = train[features].iloc[val_idx], y.iloc[val_idx]\n",
    "    \n",
    "    # train lightGBM\n",
    "    gbm = gbm.fit(trn_x, trn_y, \n",
    "                  eval_set = [(trn_x, trn_y), (val_x, val_y)], \n",
    "                  eval_metric = metric, \n",
    "                  verbose = verbose, \n",
    "                  early_stopping_rounds = stopping)\n",
    "    \n",
    "    # save number of iterations\n",
    "    num_iter_cv = gbm.best_iteration_\n",
    "    \n",
    "    # predictions\n",
    "    valid_preds_cv = gbm.predict_proba(val_x, num_iteration = num_iter_cv)[:, 1]\n",
    "    valid_aucs_cv[n_fold] = roc_auc_score(val_y, valid_preds_cv)\n",
    "    test_preds_cv += gbm.predict_proba(test[features], num_iteration = num_iter_cv)[:, 1] / folds.n_splits \n",
    "    \n",
    "    # importance\n",
    "    fold_importance_df = pd.DataFrame()\n",
    "    fold_importance_df[\"Feature\"] = features\n",
    "    fold_importance_df[\"Importance\"] = gbm.feature_importances_\n",
    "    fold_importance_df[\"Fold\"] = n_fold + 1\n",
    "    feature_importance_df = pd.concat([feature_importance_df, fold_importance_df], axis = 0)\n",
    "    \n",
    "    # print performance\n",
    "    print(\"----------------------\")\n",
    "    print(\"Fold%2d AUC: %.6f\" % (n_fold + 1, valid_aucs_cv[n_fold]))\n",
    "    print(\"----------------------\")\n",
    "    print(\"\")\n",
    "    \n",
    "    # clear memory\n",
    "    del trn_x, trn_y, val_x, val_y\n",
    "    gc.collect()\n",
    "    \n",
    "# print overall performance    \n",
    "auc = np.mean(valid_aucs_cv)\n",
    "print(\"Cross-Validation AUC score %.6f\" % np.mean(valid_aucs_cv))"
   ]
  },
  {
   "cell_type": "code",
   "execution_count": null,
   "metadata": {},
   "outputs": [],
   "source": [
    "##### VARIABLE IMPORTANCE\n",
    "\n",
    "# load importance    \n",
    "top_feats = 50\n",
    "cols = feature_importance_df[[\"Feature\", \"Importance\"]].groupby(\"Feature\").mean().sort_values(by = \"Importance\", ascending = False)[0:top_feats].index\n",
    "importance = feature_importance_df.loc[feature_importance_df.Feature.isin(cols)]\n",
    "    \n",
    "# plot variable importance\n",
    "plt.figure(figsize = (10, 10))\n",
    "sns.barplot(x = \"Importance\", y = \"Feature\", data = importance.sort_values(by = \"Importance\", ascending = False))\n",
    "plt.title('LightGBM Variable Importance (mean over CV folds)')\n",
    "plt.tight_layout()\n",
    "\n",
    "# save plot as pdf\n",
    "plt.savefig(\"../var_importance.pdf\")"
   ]
  },
  {
   "cell_type": "markdown",
   "metadata": {},
   "source": [
    "## 3.2. TOP FEATURES"
   ]
  },
  {
   "cell_type": "code",
   "execution_count": null,
   "metadata": {},
   "outputs": [],
   "source": [
    "# keep top features\n",
    "top = 500\n",
    "features = list(importance[\"feature\"][0:top])"
   ]
  },
  {
   "cell_type": "code",
   "execution_count": null,
   "metadata": {},
   "outputs": [],
   "source": [
    "# check dimensions\n",
    "print(train[features].shape)\n",
    "print(test[features].shape)"
   ]
  },
  {
   "cell_type": "code",
   "execution_count": null,
   "metadata": {},
   "outputs": [],
   "source": [
    "### CROSS-VALIDATION LOOP\n",
    "for n_fold, (trn_idx, val_idx) in enumerate(folds.split(train, y)):\n",
    "    \n",
    "    # data partitioning\n",
    "    trn_x, trn_y = train[features].iloc[trn_idx], y.iloc[trn_idx]\n",
    "    val_x, val_y = train[features].iloc[val_idx], y.iloc[val_idx]\n",
    "    \n",
    "    # train lightGBM\n",
    "    gbm = gbm.fit(trn_x, trn_y, \n",
    "                  eval_set = [(trn_x, trn_y), (val_x, val_y)], \n",
    "                  eval_metric = metric, \n",
    "                  verbose = verbose, \n",
    "                  early_stopping_rounds = stopping)\n",
    "    \n",
    "    # save number of iterations\n",
    "    num_iter_cv = gbm.best_iteration_\n",
    "    \n",
    "    # predictions\n",
    "    valid_preds_cv = gbm.predict_proba(val_x, num_iteration = num_iter_cv)[:, 1]\n",
    "    valid_aucs_cv[n_fold] = roc_auc_score(val_y, valid_preds_cv)\n",
    "    test_preds_cv += gbm.predict_proba(test[features], num_iteration = num_iter_cv)[:, 1] / folds.n_splits\n",
    "    \n",
    "    # print performance\n",
    "    print(\"----------------------\")\n",
    "    print(\"Fold%2d AUC: %.6f\" % (n_fold + 1, valid_aucs_cv[n_fold]))\n",
    "    print(\"----------------------\")\n",
    "    print(\"\")\n",
    "\n",
    "    # clear memory\n",
    "    del trn_x, trn_y, val_x, val_y\n",
    "    gc.collect()\n",
    "    \n",
    "# print overall performance    \n",
    "auc = np.mean(valid_aucs_cv)\n",
    "print(\"Cross-Validation AUC score %.6f\" % auc)"
   ]
  },
  {
   "cell_type": "markdown",
   "metadata": {},
   "source": [
    "# 4. SUBMISSION"
   ]
  },
  {
   "cell_type": "code",
   "execution_count": null,
   "metadata": {},
   "outputs": [],
   "source": [
    "# create submission\n",
    "test[\"TARGET\"] = test_preds_cv\n",
    "subm = test[[\"SK_ID_CURR\", \"TARGET\"]]"
   ]
  },
  {
   "cell_type": "code",
   "execution_count": null,
   "metadata": {},
   "outputs": [],
   "source": [
    "# check rank correlation with the best submission\n",
    "from scipy.stats import spearmanr\n",
    "best = pd.read_csv(\"../submissions/rmean_top6.csv\")\n",
    "spearmanr(test.TARGET, best.TARGET)"
   ]
  },
  {
   "cell_type": "code",
   "execution_count": null,
   "metadata": {},
   "outputs": [],
   "source": [
    "# export CSV\n",
    "subm.to_csv(\"../submissions/auc\" + str(round(auc, 6))[2:8] + \"_bag_lgb.csv\", index = False, float_format = \"%.8f\")"
   ]
  },
  {
   "cell_type": "code",
   "execution_count": null,
   "metadata": {},
   "outputs": [],
   "source": [
    "# no card, old features (560):            0.786941 | 0.783\n",
    "# no card, new features (694):            0.788893 | 0.783\n",
    "# with card, new features (1072):         0.790123 | 0.787\n",
    "# with card and kernel features (1109):   0.790053 | \n",
    "# card, kernel, factorize, no na (978):   0.790803 | \n",
    "# card, kern, fac, nona, adummy (1193):   0.791321 |\n",
    "# full data, one-hot ecoding (1844):      0.791850 |\n",
    "# full data, one-hot, extra sums (2486):  0.791880 | 0.789 \n",
    "# full, one-hot, sums, buroscore (2501):  0.791761 | \n",
    "# full, one-hot, clean, buroscore (1826): 0.791867 |\n",
    "# last data + ext, age ratios (1828):     0.791808 |\n",
    "# new app feats, remove weighted (1830):  0.794241 | 0.795\n",
    "# previous data - top1000 LGB features:   0.794384 |\n",
    "# select top1500 LGB features:            0.794384 |"
   ]
  }
 ],
 "metadata": {
  "kernelspec": {
   "display_name": "Python 3",
   "language": "python",
   "name": "python3"
  },
  "language_info": {
   "codemirror_mode": {
    "name": "ipython",
    "version": 3
   },
   "file_extension": ".py",
   "mimetype": "text/x-python",
   "name": "python",
   "nbconvert_exporter": "python",
   "pygments_lexer": "ipython3",
   "version": "3.6.5"
  }
 },
 "nbformat": 4,
 "nbformat_minor": 2
}
